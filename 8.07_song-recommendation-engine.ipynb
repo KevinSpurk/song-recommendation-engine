{
 "cells": [
  {
   "cell_type": "markdown",
   "id": "79056592-5813-49cd-8599-5cc03877acb4",
   "metadata": {},
   "source": [
    "# Case | Song recommendation\n",
    "\n",
    "This notebook creates a pipeline to get song recommendation based on songs in the Billboard Hot 100 list. A user can choose a song title and - if it is present in the Hot 100 list - is recommended a similar song based on a model of song clustering, or a song with this title is added to the cluster model.\n",
    "\n",
    "# 1. Libary imports"
   ]
  },
  {
   "cell_type": "code",
   "execution_count": 195,
   "id": "6aa19b3a-70d9-46ec-9ca5-0fd078178cad",
   "metadata": {},
   "outputs": [],
   "source": [
    "from bs4 import BeautifulSoup\n",
    "import requests\n",
    "import pandas as pd\n",
    "from random import randint\n",
    "\n",
    "pd.options.display.max_columns = None\n",
    "pd.set_option('max_row', None)"
   ]
  },
  {
   "cell_type": "code",
   "execution_count": null,
   "id": "f9d5df57-73d1-4a17-b989-1f6e9e8fdcba",
   "metadata": {},
   "outputs": [],
   "source": []
  },
  {
   "cell_type": "markdown",
   "id": "7b62d359-6190-471b-b5e7-f7e72cb75d4f",
   "metadata": {},
   "source": [
    "# 2. Billboard Hot 100 data\n",
    "\n",
    "### Web scraping Hot 100 track info"
   ]
  },
  {
   "cell_type": "code",
   "execution_count": 196,
   "id": "14959bea-9316-4b95-a89c-d28eee0bafc6",
   "metadata": {},
   "outputs": [],
   "source": [
    "# func scrapes the Billboard's Hot 100 and retrieves the \n",
    "# outputs: df with songs name, artist, last week ranks, peak rank and weeks on chart\n",
    "\n",
    "def scrape_billboard():\n",
    "    \n",
    "    # 2. find url and store it in a variable\n",
    "    url = \"https://www.billboard.com/charts/hot-100\"\n",
    "    \n",
    "    # 3. download html with a get request\n",
    "    response = requests.get(url)\n",
    "    if response.status_code != 200:\n",
    "        print(\"Scraping failed. Status code \" + str(response.status_code))\n",
    "    \n",
    "    # 4. parse html (create the 'soup')\n",
    "    soup = BeautifulSoup(response.content, \"html.parser\")\n",
    "    soup.select(\"#main > div > span > div > div > div.lister > table > tbody > tr:nth-child(1) > td.titleColumn > a\")\n",
    "\n",
    "    # 5. retrieve/extract the desired info\n",
    "    # song titles\n",
    "    songs = soup.find_all(\"span\", class_=\"chart-element__information__song text--truncate color--primary\")\n",
    "    # artists\n",
    "    artists = soup.find_all(\"span\", class_=\"chart-element__information__artist text--truncate color--secondary\")\n",
    "    # last week\n",
    "    last_week_ranks = soup.find_all(\"span\", class_= \"chart-element__meta text--center color--secondary text--last\")\n",
    "    # peak rank\n",
    "    peak_ranks = soup.find_all(\"span\", class_= \"chart-element__meta text--center color--secondary text--peak\")\n",
    "    # weeks on chart\n",
    "    weeks_on_chart = soup.find_all(\"span\", class_= \"chart-element__meta text--center color--secondary text--week\")\n",
    "\n",
    "    for i in [songs, artists, last_week_ranks, peak_ranks, weeks_on_chart]:\n",
    "        for j in range(len(i)):\n",
    "            i[j] = i[j].getText()\n",
    "        \n",
    "    billboard = pd.DataFrame(\n",
    "        {\"song\": songs,\n",
    "         \"artist\": artists,\n",
    "         \"last_week_rank\": last_week_ranks,\n",
    "         \"peak_rank\": peak_ranks,\n",
    "         \"weeks_on_chart\": weeks_on_chart})\n",
    "    return billboard"
   ]
  },
  {
   "cell_type": "code",
   "execution_count": 197,
   "id": "5424f62c-3785-4a66-b1fd-86baec7847c8",
   "metadata": {},
   "outputs": [],
   "source": [
    "hot100 = scrape_billboard()"
   ]
  },
  {
   "cell_type": "code",
   "execution_count": 199,
   "id": "d1537a45-fe09-4c85-85ff-51d7e5dc746d",
   "metadata": {},
   "outputs": [
    {
     "data": {
      "text/html": [
       "<div>\n",
       "<style scoped>\n",
       "    .dataframe tbody tr th:only-of-type {\n",
       "        vertical-align: middle;\n",
       "    }\n",
       "\n",
       "    .dataframe tbody tr th {\n",
       "        vertical-align: top;\n",
       "    }\n",
       "\n",
       "    .dataframe thead th {\n",
       "        text-align: right;\n",
       "    }\n",
       "</style>\n",
       "<table border=\"1\" class=\"dataframe\">\n",
       "  <thead>\n",
       "    <tr style=\"text-align: right;\">\n",
       "      <th></th>\n",
       "      <th>song</th>\n",
       "      <th>artist</th>\n",
       "      <th>last_week_rank</th>\n",
       "      <th>peak_rank</th>\n",
       "      <th>weeks_on_chart</th>\n",
       "    </tr>\n",
       "  </thead>\n",
       "  <tbody>\n",
       "    <tr>\n",
       "      <th>0</th>\n",
       "      <td>Stay</td>\n",
       "      <td>The Kid LAROI &amp; Justin Bieber</td>\n",
       "      <td>2</td>\n",
       "      <td>1</td>\n",
       "      <td>13</td>\n",
       "    </tr>\n",
       "    <tr>\n",
       "      <th>1</th>\n",
       "      <td>Industry Baby</td>\n",
       "      <td>Lil Nas X &amp; Jack Harlow</td>\n",
       "      <td>3</td>\n",
       "      <td>2</td>\n",
       "      <td>11</td>\n",
       "    </tr>\n",
       "    <tr>\n",
       "      <th>2</th>\n",
       "      <td>Fancy Like</td>\n",
       "      <td>Walker Hayes</td>\n",
       "      <td>5</td>\n",
       "      <td>3</td>\n",
       "      <td>16</td>\n",
       "    </tr>\n",
       "    <tr>\n",
       "      <th>3</th>\n",
       "      <td>Way 2 Sexy</td>\n",
       "      <td>Drake Featuring Future &amp; Young Thug</td>\n",
       "      <td>4</td>\n",
       "      <td>1</td>\n",
       "      <td>5</td>\n",
       "    </tr>\n",
       "    <tr>\n",
       "      <th>4</th>\n",
       "      <td>Bad Habits</td>\n",
       "      <td>Ed Sheeran</td>\n",
       "      <td>6</td>\n",
       "      <td>2</td>\n",
       "      <td>15</td>\n",
       "    </tr>\n",
       "    <tr>\n",
       "      <th>5</th>\n",
       "      <td>Good 4 U</td>\n",
       "      <td>Olivia Rodrigo</td>\n",
       "      <td>7</td>\n",
       "      <td>1</td>\n",
       "      <td>21</td>\n",
       "    </tr>\n",
       "    <tr>\n",
       "      <th>6</th>\n",
       "      <td>Kiss Me More</td>\n",
       "      <td>Doja Cat Featuring SZA</td>\n",
       "      <td>8</td>\n",
       "      <td>3</td>\n",
       "      <td>26</td>\n",
       "    </tr>\n",
       "    <tr>\n",
       "      <th>7</th>\n",
       "      <td>Levitating</td>\n",
       "      <td>Dua Lipa</td>\n",
       "      <td>10</td>\n",
       "      <td>2</td>\n",
       "      <td>53</td>\n",
       "    </tr>\n",
       "    <tr>\n",
       "      <th>8</th>\n",
       "      <td>Knife Talk</td>\n",
       "      <td>Drake Featuring 21 Savage &amp; Project Pat</td>\n",
       "      <td>9</td>\n",
       "      <td>4</td>\n",
       "      <td>5</td>\n",
       "    </tr>\n",
       "    <tr>\n",
       "      <th>9</th>\n",
       "      <td>Essence</td>\n",
       "      <td>Wizkid Featuring Justin Bieber &amp; Tems</td>\n",
       "      <td>11</td>\n",
       "      <td>10</td>\n",
       "      <td>14</td>\n",
       "    </tr>\n",
       "  </tbody>\n",
       "</table>\n",
       "</div>"
      ],
      "text/plain": [
       "            song                                   artist last_week_rank  \\\n",
       "0           Stay            The Kid LAROI & Justin Bieber              2   \n",
       "1  Industry Baby                  Lil Nas X & Jack Harlow              3   \n",
       "2     Fancy Like                             Walker Hayes              5   \n",
       "3     Way 2 Sexy      Drake Featuring Future & Young Thug              4   \n",
       "4     Bad Habits                               Ed Sheeran              6   \n",
       "5       Good 4 U                           Olivia Rodrigo              7   \n",
       "6   Kiss Me More                   Doja Cat Featuring SZA              8   \n",
       "7     Levitating                                 Dua Lipa             10   \n",
       "8     Knife Talk  Drake Featuring 21 Savage & Project Pat              9   \n",
       "9        Essence    Wizkid Featuring Justin Bieber & Tems             11   \n",
       "\n",
       "  peak_rank weeks_on_chart  \n",
       "0         1             13  \n",
       "1         2             11  \n",
       "2         3             16  \n",
       "3         1              5  \n",
       "4         2             15  \n",
       "5         1             21  \n",
       "6         3             26  \n",
       "7         2             53  \n",
       "8         4              5  \n",
       "9        10             14  "
      ]
     },
     "execution_count": 199,
     "metadata": {},
     "output_type": "execute_result"
    }
   ],
   "source": [
    "hot100.head(10)"
   ]
  },
  {
   "cell_type": "code",
   "execution_count": null,
   "id": "8f2ddf30-1da1-41f4-b84a-9eca19263bdc",
   "metadata": {},
   "outputs": [],
   "source": []
  },
  {
   "cell_type": "markdown",
   "id": "40481342-75f7-412c-934f-c338a8fae71f",
   "metadata": {},
   "source": [
    "### Hot 100 song selection"
   ]
  },
  {
   "cell_type": "code",
   "execution_count": 234,
   "id": "a9a72066-3ee3-4978-aa92-ccd5aa3d0dca",
   "metadata": {},
   "outputs": [],
   "source": [
    "# user selection of a song in the hot 100 \n",
    "# outputs: hot 100 song title or user input title if no match\n",
    "\n",
    "def hot100_song_select(): \n",
    "    # scrape billboard hot 100\n",
    "    billboard = scrape_billboard()\n",
    "    \n",
    "    # ask for song\n",
    "    song = input(\"What song do you like? \")\n",
    "    \n",
    "    # check if song is on billboard hot 100\n",
    "    song_row = billboard[billboard[\"song\"].str.contains(song)]\n",
    "    if len(song_row) == 0:\n",
    "        # output user input \n",
    "        song_pick = song\n",
    "        print(\"Your song is not in the Hot 100.\")\n",
    "    else:\n",
    "        check_song = input(\"Did you mean \" + song_row[\"song\"].values[0] + \" by \" + song_row[\"artist\"].values[0] + \"? \")    \n",
    "        # if song in hot 100, output song title \n",
    "        if check_song == \"yes\":\n",
    "            song_pick = song_row[\"song\"].values[0]\n",
    "        else:\n",
    "            print(\"Your song is not in the Hot 100.\")\n",
    "            song_pick = song\n",
    "    return song_pick"
   ]
  },
  {
   "cell_type": "code",
   "execution_count": null,
   "id": "d7c26196-8093-477b-ad75-54a58aa72c7c",
   "metadata": {},
   "outputs": [],
   "source": []
  },
  {
   "cell_type": "markdown",
   "id": "34df1bdd-5af5-4054-bf8c-60e7b5354541",
   "metadata": {},
   "source": [
    "# 2. Spotify data"
   ]
  },
  {
   "cell_type": "code",
   "execution_count": 201,
   "id": "3fd028ca-4dbf-4a91-8867-5b327e545ccb",
   "metadata": {},
   "outputs": [],
   "source": [
    "import numpy as np\n",
    "import json\n",
    "import time\n",
    "import random\n",
    "import spotipy\n",
    "from spotipy.oauth2 import SpotifyClientCredentials"
   ]
  },
  {
   "cell_type": "code",
   "execution_count": null,
   "id": "5e016ad9-b607-46a2-b9fe-c3dcbaf5daff",
   "metadata": {},
   "outputs": [],
   "source": []
  },
  {
   "cell_type": "markdown",
   "id": "53ac2c8f-d9c4-488d-85c9-7a5b5fb1834f",
   "metadata": {},
   "source": [
    "### API authentification"
   ]
  },
  {
   "cell_type": "code",
   "execution_count": 202,
   "id": "8a150209-26e1-4194-ba7c-3961b22c80c1",
   "metadata": {},
   "outputs": [],
   "source": [
    "# Initialize SpotiPy with user credentias\n",
    "\n",
    "sp = spotipy.Spotify(auth_manager=SpotifyClientCredentials(client_id=\"af3a4e21d9974f798b0ddef081728f2b\",\n",
    "                                                           client_secret=\"99a65d20eff04d64bcf24b11824dffc4\"))\n"
   ]
  },
  {
   "cell_type": "code",
   "execution_count": null,
   "id": "1e0958ad-c691-4a1d-88f5-a14ab92003b5",
   "metadata": {},
   "outputs": [],
   "source": []
  },
  {
   "cell_type": "markdown",
   "id": "39cc13f7-0ec7-49e6-95d1-06d705f5cd63",
   "metadata": {},
   "source": [
    "### Spotify search with Hot 100 song"
   ]
  },
  {
   "cell_type": "code",
   "execution_count": 203,
   "id": "032c9950-3c2e-41b4-90b0-1c5fb076fac9",
   "metadata": {},
   "outputs": [],
   "source": [
    "# search for spotify tracks by hot 100 song\n",
    "# outputs: df with first match of spotify search\n",
    "\n",
    "def spotify_track_ids_from_hot100():\n",
    "    # get song for hot 100\n",
    "    track = hot100_song_select()\n",
    "    # search for song on spotify\n",
    "    results = sp.search(q=track, limit=20, type='track')\n",
    "    \n",
    "    # store serach results\n",
    "    track_ids, track_names = [], []\n",
    "    \n",
    "    if len(results['tracks']['items']) != 0:\n",
    "        for track in results['tracks']['items']:\n",
    "            track_ids.append(track['id'])\n",
    "            track_names.append(track['name'])\n",
    "    \n",
    "    # create df from results    \n",
    "    df_track_ids = pd.DataFrame({'track_id': track_ids, 'track_name': track_names}).head(1)\n",
    "    \n",
    "    return df_track_ids"
   ]
  },
  {
   "cell_type": "markdown",
   "id": "d0f5668b-f737-44b1-a49d-3ccbb5df1e77",
   "metadata": {},
   "source": [
    "The user can search for a song. If the song is found in the Hot 100 the output df stores title and id. If the song is not found the output df stores title and id of a track that matches with the user input."
   ]
  },
  {
   "cell_type": "code",
   "execution_count": 205,
   "id": "6b7ac7e3-7ed3-4fe6-ba34-7e4c7fa1a54c",
   "metadata": {},
   "outputs": [
    {
     "name": "stdin",
     "output_type": "stream",
     "text": [
      "What song do you like?  Knife Talk\n",
      "Did you mean Knife Talk by Drake Featuring 21 Savage & Project Pat?  yes\n"
     ]
    }
   ],
   "source": [
    "hot100_no10 = spotify_track_ids_from_hot100()"
   ]
  },
  {
   "cell_type": "code",
   "execution_count": 206,
   "id": "2ceacc4b-aaf2-432e-837e-ad3dce0cbf78",
   "metadata": {},
   "outputs": [
    {
     "data": {
      "text/html": [
       "<div>\n",
       "<style scoped>\n",
       "    .dataframe tbody tr th:only-of-type {\n",
       "        vertical-align: middle;\n",
       "    }\n",
       "\n",
       "    .dataframe tbody tr th {\n",
       "        vertical-align: top;\n",
       "    }\n",
       "\n",
       "    .dataframe thead th {\n",
       "        text-align: right;\n",
       "    }\n",
       "</style>\n",
       "<table border=\"1\" class=\"dataframe\">\n",
       "  <thead>\n",
       "    <tr style=\"text-align: right;\">\n",
       "      <th></th>\n",
       "      <th>track_id</th>\n",
       "      <th>track_name</th>\n",
       "    </tr>\n",
       "  </thead>\n",
       "  <tbody>\n",
       "    <tr>\n",
       "      <th>0</th>\n",
       "      <td>2BcMwX1MPV6ZHP4tUT9uq6</td>\n",
       "      <td>Knife Talk (with 21 Savage ft. Project Pat)</td>\n",
       "    </tr>\n",
       "  </tbody>\n",
       "</table>\n",
       "</div>"
      ],
      "text/plain": [
       "                 track_id                                   track_name\n",
       "0  2BcMwX1MPV6ZHP4tUT9uq6  Knife Talk (with 21 Savage ft. Project Pat)"
      ]
     },
     "execution_count": 206,
     "metadata": {},
     "output_type": "execute_result"
    }
   ],
   "source": [
    "hot100_no10"
   ]
  },
  {
   "cell_type": "code",
   "execution_count": null,
   "id": "f66c0075-6148-4b5c-af5c-ce323a4f1a20",
   "metadata": {},
   "outputs": [],
   "source": []
  },
  {
   "cell_type": "markdown",
   "id": "afe4b072-b39c-4606-bb57-c8949d2f9ab5",
   "metadata": {},
   "source": [
    "### Spotify search with track list"
   ]
  },
  {
   "cell_type": "code",
   "execution_count": 211,
   "id": "ab48e352-f4de-45a4-8c11-0260745aaadf",
   "metadata": {},
   "outputs": [],
   "source": [
    "# search for spotify tracks by track name\n",
    "# inputs: df of songs, column with track names, outputs: df with track names and ids\n",
    "\n",
    "def search_spotify_track_ids_list(df, tracks):\n",
    "    track_ids, track_names = [], []\n",
    "    \n",
    "    for track in df[tracks]:\n",
    "        results = sp.search(q=track, limit=20, type='track')\n",
    "        \n",
    "        if len(results['tracks']['items']) != 0:\n",
    "            for track in results['tracks']['items']:\n",
    "                track_ids.append(track['id'])\n",
    "                track_names.append(track['name'])\n",
    "        \n",
    "    df_track_ids = pd.DataFrame({'track_id': track_ids, 'track_name': track_names})\n",
    "    \n",
    "    return df_track_ids"
   ]
  },
  {
   "cell_type": "code",
   "execution_count": 212,
   "id": "1b669cef-605e-4bcf-92f5-79c41679f47b",
   "metadata": {},
   "outputs": [],
   "source": [
    "hot100_ids = search_spotify_track_ids_list(df=hot100, tracks='song')"
   ]
  },
  {
   "cell_type": "markdown",
   "id": "7f0a89a6-fb0e-4ad2-9125-a256f6b080b4",
   "metadata": {},
   "source": [
    "A df with track ids is created to look for the audio features of those tracks for the clustering model later on. "
   ]
  },
  {
   "cell_type": "code",
   "execution_count": 213,
   "id": "65f3ba4f-10f3-4dfc-8778-ee0c75e5177e",
   "metadata": {},
   "outputs": [
    {
     "data": {
      "text/html": [
       "<div>\n",
       "<style scoped>\n",
       "    .dataframe tbody tr th:only-of-type {\n",
       "        vertical-align: middle;\n",
       "    }\n",
       "\n",
       "    .dataframe tbody tr th {\n",
       "        vertical-align: top;\n",
       "    }\n",
       "\n",
       "    .dataframe thead th {\n",
       "        text-align: right;\n",
       "    }\n",
       "</style>\n",
       "<table border=\"1\" class=\"dataframe\">\n",
       "  <thead>\n",
       "    <tr style=\"text-align: right;\">\n",
       "      <th></th>\n",
       "      <th>track_id</th>\n",
       "      <th>track_name</th>\n",
       "    </tr>\n",
       "  </thead>\n",
       "  <tbody>\n",
       "    <tr>\n",
       "      <th>0</th>\n",
       "      <td>5HCyWlXZPP0y6Gqq8TgA20</td>\n",
       "      <td>STAY (with Justin Bieber)</td>\n",
       "    </tr>\n",
       "    <tr>\n",
       "      <th>1</th>\n",
       "      <td>4kux0P5UfguojB4h0lQnsj</td>\n",
       "      <td>STAY (with Justin Bieber)</td>\n",
       "    </tr>\n",
       "    <tr>\n",
       "      <th>2</th>\n",
       "      <td>2WYs5LxOZfEyURXu7V0O1a</td>\n",
       "      <td>Stay With Me</td>\n",
       "    </tr>\n",
       "    <tr>\n",
       "      <th>3</th>\n",
       "      <td>5PjdY0CKGZdEuoNab3yDmX</td>\n",
       "      <td>STAY (with Justin Bieber)</td>\n",
       "    </tr>\n",
       "    <tr>\n",
       "      <th>4</th>\n",
       "      <td>6uBhi9gBXWjanegOb2Phh0</td>\n",
       "      <td>Stay</td>\n",
       "    </tr>\n",
       "  </tbody>\n",
       "</table>\n",
       "</div>"
      ],
      "text/plain": [
       "                 track_id                 track_name\n",
       "0  5HCyWlXZPP0y6Gqq8TgA20  STAY (with Justin Bieber)\n",
       "1  4kux0P5UfguojB4h0lQnsj  STAY (with Justin Bieber)\n",
       "2  2WYs5LxOZfEyURXu7V0O1a               Stay With Me\n",
       "3  5PjdY0CKGZdEuoNab3yDmX  STAY (with Justin Bieber)\n",
       "4  6uBhi9gBXWjanegOb2Phh0                       Stay"
      ]
     },
     "execution_count": 213,
     "metadata": {},
     "output_type": "execute_result"
    }
   ],
   "source": [
    "hot100_ids.head()"
   ]
  },
  {
   "cell_type": "code",
   "execution_count": 214,
   "id": "6feb1eee-1101-4436-923f-f16d97cbd5c5",
   "metadata": {},
   "outputs": [
    {
     "data": {
      "text/plain": [
       "1861"
      ]
     },
     "execution_count": 214,
     "metadata": {},
     "output_type": "execute_result"
    }
   ],
   "source": [
    "len(hot100_ids)"
   ]
  },
  {
   "cell_type": "code",
   "execution_count": null,
   "id": "49725587-39b6-4fdd-835d-c3252cadb380",
   "metadata": {},
   "outputs": [],
   "source": []
  },
  {
   "cell_type": "markdown",
   "id": "66b15f40-532a-4c23-ba01-fa93ebbec950",
   "metadata": {},
   "source": [
    "### Fetching Spotify audio features"
   ]
  },
  {
   "cell_type": "code",
   "execution_count": 215,
   "id": "d7b971c5-14ae-46c8-ae48-e32f5bdd1084",
   "metadata": {},
   "outputs": [],
   "source": [
    "# adding audio features to an existing dataframe with track ids in a column\n",
    "# inputs: dataframe, column name of track ids, outputs: dataframe\n",
    "\n",
    "def track_audio_features_to_df(df, tracks):\n",
    "    # fetching track features\n",
    "    results = []\n",
    "    i = 0\n",
    "    for track in df[tracks]:\n",
    "        results.append(sp.audio_features(track))\n",
    "        i+=1\n",
    "        # a break every 10 itterations\n",
    "        if (i % 10) == 0:\n",
    "            time.sleep(2)\n",
    "        \n",
    "    # copy features from list to dict\n",
    "    song_features = {'danceability': [], 'energy': [], 'key': [], 'loudness': [],\n",
    "                     'mode': [], 'speechiness': [], 'acousticness': [], 'instrumentalness': [],\n",
    "                     'liveness': [], 'valence': [], 'tempo': [], 'duration_ms': [], 'time_signature': []}\n",
    "    \n",
    "    for track in results:\n",
    "        # conditions for copy process \n",
    "        if track[0] != None:\n",
    "            if len(track[0]) > 0:\n",
    "                for f in song_features.keys():\n",
    "                    for feat in track[0].keys():\n",
    "                        if f not in track[0].keys():\n",
    "                            song_features[f].append(np.NaN)\n",
    "                        else:\n",
    "                            if f == feat:\n",
    "                                if track[0][feat] == None:\n",
    "                                    song_features[f].append(np.NaN)\n",
    "                                else:\n",
    "                                    song_features[f].append(track[0][feat])\n",
    "                    \n",
    "    # create df with songs and their features \n",
    "    df_song_features = pd.DataFrame(song_features)\n",
    "    df_song_info = pd.concat([df, df_song_features], axis=1)\n",
    "    df_song_info = df_song_info.dropna()\n",
    "    return df_song_info\n",
    "            "
   ]
  },
  {
   "cell_type": "code",
   "execution_count": 216,
   "id": "9df52ba5-01ec-4480-86f4-a8413753ee58",
   "metadata": {},
   "outputs": [],
   "source": [
    "hot100_audio_features = track_audio_features_to_df(df=hot100_ids, tracks='track_id')"
   ]
  },
  {
   "cell_type": "markdown",
   "id": "85269581-6305-4caa-b58d-8e46571bbc20",
   "metadata": {},
   "source": [
    "A df with tracks and their audio features is created to train clustering model in the following step. "
   ]
  },
  {
   "cell_type": "code",
   "execution_count": 217,
   "id": "01ec7bbb-88df-439a-a42e-225c66124787",
   "metadata": {},
   "outputs": [
    {
     "data": {
      "text/html": [
       "<div>\n",
       "<style scoped>\n",
       "    .dataframe tbody tr th:only-of-type {\n",
       "        vertical-align: middle;\n",
       "    }\n",
       "\n",
       "    .dataframe tbody tr th {\n",
       "        vertical-align: top;\n",
       "    }\n",
       "\n",
       "    .dataframe thead th {\n",
       "        text-align: right;\n",
       "    }\n",
       "</style>\n",
       "<table border=\"1\" class=\"dataframe\">\n",
       "  <thead>\n",
       "    <tr style=\"text-align: right;\">\n",
       "      <th></th>\n",
       "      <th>track_id</th>\n",
       "      <th>track_name</th>\n",
       "      <th>danceability</th>\n",
       "      <th>energy</th>\n",
       "      <th>key</th>\n",
       "      <th>loudness</th>\n",
       "      <th>mode</th>\n",
       "      <th>speechiness</th>\n",
       "      <th>acousticness</th>\n",
       "      <th>instrumentalness</th>\n",
       "      <th>liveness</th>\n",
       "      <th>valence</th>\n",
       "      <th>tempo</th>\n",
       "      <th>duration_ms</th>\n",
       "      <th>time_signature</th>\n",
       "    </tr>\n",
       "  </thead>\n",
       "  <tbody>\n",
       "    <tr>\n",
       "      <th>0</th>\n",
       "      <td>5HCyWlXZPP0y6Gqq8TgA20</td>\n",
       "      <td>STAY (with Justin Bieber)</td>\n",
       "      <td>0.591</td>\n",
       "      <td>0.764</td>\n",
       "      <td>1.0</td>\n",
       "      <td>-5.484</td>\n",
       "      <td>1.0</td>\n",
       "      <td>0.0483</td>\n",
       "      <td>0.0383</td>\n",
       "      <td>0.0</td>\n",
       "      <td>0.103</td>\n",
       "      <td>0.478</td>\n",
       "      <td>169.928</td>\n",
       "      <td>141806.0</td>\n",
       "      <td>4.0</td>\n",
       "    </tr>\n",
       "    <tr>\n",
       "      <th>1</th>\n",
       "      <td>4kux0P5UfguojB4h0lQnsj</td>\n",
       "      <td>STAY (with Justin Bieber)</td>\n",
       "      <td>0.587</td>\n",
       "      <td>0.795</td>\n",
       "      <td>1.0</td>\n",
       "      <td>-5.557</td>\n",
       "      <td>1.0</td>\n",
       "      <td>0.0522</td>\n",
       "      <td>0.0370</td>\n",
       "      <td>0.0</td>\n",
       "      <td>0.103</td>\n",
       "      <td>0.476</td>\n",
       "      <td>169.951</td>\n",
       "      <td>141806.0</td>\n",
       "      <td>4.0</td>\n",
       "    </tr>\n",
       "    <tr>\n",
       "      <th>2</th>\n",
       "      <td>2WYs5LxOZfEyURXu7V0O1a</td>\n",
       "      <td>Stay With Me</td>\n",
       "      <td>0.684</td>\n",
       "      <td>0.844</td>\n",
       "      <td>9.0</td>\n",
       "      <td>-7.649</td>\n",
       "      <td>1.0</td>\n",
       "      <td>0.3350</td>\n",
       "      <td>0.3020</td>\n",
       "      <td>0.0</td>\n",
       "      <td>0.374</td>\n",
       "      <td>0.335</td>\n",
       "      <td>126.677</td>\n",
       "      <td>141505.0</td>\n",
       "      <td>5.0</td>\n",
       "    </tr>\n",
       "    <tr>\n",
       "      <th>3</th>\n",
       "      <td>5PjdY0CKGZdEuoNab3yDmX</td>\n",
       "      <td>STAY (with Justin Bieber)</td>\n",
       "      <td>0.591</td>\n",
       "      <td>0.764</td>\n",
       "      <td>1.0</td>\n",
       "      <td>-5.484</td>\n",
       "      <td>1.0</td>\n",
       "      <td>0.0483</td>\n",
       "      <td>0.0383</td>\n",
       "      <td>0.0</td>\n",
       "      <td>0.103</td>\n",
       "      <td>0.478</td>\n",
       "      <td>169.928</td>\n",
       "      <td>141806.0</td>\n",
       "      <td>4.0</td>\n",
       "    </tr>\n",
       "    <tr>\n",
       "      <th>4</th>\n",
       "      <td>6uBhi9gBXWjanegOb2Phh0</td>\n",
       "      <td>Stay</td>\n",
       "      <td>0.690</td>\n",
       "      <td>0.622</td>\n",
       "      <td>5.0</td>\n",
       "      <td>-5.025</td>\n",
       "      <td>0.0</td>\n",
       "      <td>0.0622</td>\n",
       "      <td>0.2530</td>\n",
       "      <td>0.0</td>\n",
       "      <td>0.116</td>\n",
       "      <td>0.544</td>\n",
       "      <td>102.040</td>\n",
       "      <td>210091.0</td>\n",
       "      <td>4.0</td>\n",
       "    </tr>\n",
       "  </tbody>\n",
       "</table>\n",
       "</div>"
      ],
      "text/plain": [
       "                 track_id                 track_name  danceability  energy  \\\n",
       "0  5HCyWlXZPP0y6Gqq8TgA20  STAY (with Justin Bieber)         0.591   0.764   \n",
       "1  4kux0P5UfguojB4h0lQnsj  STAY (with Justin Bieber)         0.587   0.795   \n",
       "2  2WYs5LxOZfEyURXu7V0O1a               Stay With Me         0.684   0.844   \n",
       "3  5PjdY0CKGZdEuoNab3yDmX  STAY (with Justin Bieber)         0.591   0.764   \n",
       "4  6uBhi9gBXWjanegOb2Phh0                       Stay         0.690   0.622   \n",
       "\n",
       "   key  loudness  mode  speechiness  acousticness  instrumentalness  liveness  \\\n",
       "0  1.0    -5.484   1.0       0.0483        0.0383               0.0     0.103   \n",
       "1  1.0    -5.557   1.0       0.0522        0.0370               0.0     0.103   \n",
       "2  9.0    -7.649   1.0       0.3350        0.3020               0.0     0.374   \n",
       "3  1.0    -5.484   1.0       0.0483        0.0383               0.0     0.103   \n",
       "4  5.0    -5.025   0.0       0.0622        0.2530               0.0     0.116   \n",
       "\n",
       "   valence    tempo  duration_ms  time_signature  \n",
       "0    0.478  169.928     141806.0             4.0  \n",
       "1    0.476  169.951     141806.0             4.0  \n",
       "2    0.335  126.677     141505.0             5.0  \n",
       "3    0.478  169.928     141806.0             4.0  \n",
       "4    0.544  102.040     210091.0             4.0  "
      ]
     },
     "execution_count": 217,
     "metadata": {},
     "output_type": "execute_result"
    }
   ],
   "source": [
    "hot100_audio_features.head()"
   ]
  },
  {
   "cell_type": "code",
   "execution_count": null,
   "id": "582070e7-7b9d-4daf-9ea2-3e151f7f0ce6",
   "metadata": {},
   "outputs": [],
   "source": []
  },
  {
   "cell_type": "markdown",
   "id": "7cab7d3d-c778-4be3-bf0d-6c7081e4a9cb",
   "metadata": {},
   "source": [
    "# 3. Clustering\n",
    "\n",
    "### Preprocessing"
   ]
  },
  {
   "cell_type": "code",
   "execution_count": 218,
   "id": "47a6f7da-84ac-4f43-8ae4-af0f6b2ab9be",
   "metadata": {},
   "outputs": [],
   "source": [
    "from sklearn.preprocessing import StandardScaler, Normalizer"
   ]
  },
  {
   "cell_type": "code",
   "execution_count": 219,
   "id": "dc7dcb2e-b733-4c97-b353-09ef09005292",
   "metadata": {},
   "outputs": [],
   "source": [
    "# extracting clustering features from song data\n",
    "\n",
    "X = hot100_audio_features.drop(['track_name', 'track_id'], axis=1)"
   ]
  },
  {
   "cell_type": "code",
   "execution_count": 220,
   "id": "49dd9cc9-3698-4dc4-8b13-1b89383b64ed",
   "metadata": {},
   "outputs": [
    {
     "data": {
      "text/html": [
       "<div>\n",
       "<style scoped>\n",
       "    .dataframe tbody tr th:only-of-type {\n",
       "        vertical-align: middle;\n",
       "    }\n",
       "\n",
       "    .dataframe tbody tr th {\n",
       "        vertical-align: top;\n",
       "    }\n",
       "\n",
       "    .dataframe thead th {\n",
       "        text-align: right;\n",
       "    }\n",
       "</style>\n",
       "<table border=\"1\" class=\"dataframe\">\n",
       "  <thead>\n",
       "    <tr style=\"text-align: right;\">\n",
       "      <th></th>\n",
       "      <th>0</th>\n",
       "      <th>1</th>\n",
       "      <th>2</th>\n",
       "      <th>3</th>\n",
       "      <th>4</th>\n",
       "      <th>5</th>\n",
       "      <th>6</th>\n",
       "      <th>7</th>\n",
       "      <th>8</th>\n",
       "      <th>9</th>\n",
       "      <th>10</th>\n",
       "      <th>11</th>\n",
       "      <th>12</th>\n",
       "    </tr>\n",
       "  </thead>\n",
       "  <tbody>\n",
       "    <tr>\n",
       "      <th>0</th>\n",
       "      <td>-0.325235</td>\n",
       "      <td>0.738161</td>\n",
       "      <td>-1.194263</td>\n",
       "      <td>0.586827</td>\n",
       "      <td>0.77749</td>\n",
       "      <td>-0.573937</td>\n",
       "      <td>-0.756318</td>\n",
       "      <td>-0.431005</td>\n",
       "      <td>-0.549571</td>\n",
       "      <td>-0.049748</td>\n",
       "      <td>1.683544</td>\n",
       "      <td>-0.915702</td>\n",
       "      <td>0.145964</td>\n",
       "    </tr>\n",
       "    <tr>\n",
       "      <th>1</th>\n",
       "      <td>-0.351496</td>\n",
       "      <td>0.885111</td>\n",
       "      <td>-1.194263</td>\n",
       "      <td>0.570666</td>\n",
       "      <td>0.77749</td>\n",
       "      <td>-0.542384</td>\n",
       "      <td>-0.760816</td>\n",
       "      <td>-0.431005</td>\n",
       "      <td>-0.549571</td>\n",
       "      <td>-0.058137</td>\n",
       "      <td>1.684324</td>\n",
       "      <td>-0.915702</td>\n",
       "      <td>0.145964</td>\n",
       "    </tr>\n",
       "    <tr>\n",
       "      <th>2</th>\n",
       "      <td>0.285331</td>\n",
       "      <td>1.117388</td>\n",
       "      <td>1.002164</td>\n",
       "      <td>0.107542</td>\n",
       "      <td>0.77749</td>\n",
       "      <td>1.745594</td>\n",
       "      <td>0.156009</td>\n",
       "      <td>-0.431005</td>\n",
       "      <td>1.315037</td>\n",
       "      <td>-0.649533</td>\n",
       "      <td>0.217768</td>\n",
       "      <td>-0.920253</td>\n",
       "      <td>2.857971</td>\n",
       "    </tr>\n",
       "    <tr>\n",
       "      <th>3</th>\n",
       "      <td>-0.325235</td>\n",
       "      <td>0.738161</td>\n",
       "      <td>-1.194263</td>\n",
       "      <td>0.586827</td>\n",
       "      <td>0.77749</td>\n",
       "      <td>-0.573937</td>\n",
       "      <td>-0.756318</td>\n",
       "      <td>-0.431005</td>\n",
       "      <td>-0.549571</td>\n",
       "      <td>-0.049748</td>\n",
       "      <td>1.683544</td>\n",
       "      <td>-0.915702</td>\n",
       "      <td>0.145964</td>\n",
       "    </tr>\n",
       "    <tr>\n",
       "      <th>4</th>\n",
       "      <td>0.324723</td>\n",
       "      <td>0.065033</td>\n",
       "      <td>-0.096049</td>\n",
       "      <td>0.688439</td>\n",
       "      <td>-1.28619</td>\n",
       "      <td>-0.461479</td>\n",
       "      <td>-0.013517</td>\n",
       "      <td>-0.431005</td>\n",
       "      <td>-0.460125</td>\n",
       "      <td>0.227075</td>\n",
       "      <td>-0.617180</td>\n",
       "      <td>0.116604</td>\n",
       "      <td>0.145964</td>\n",
       "    </tr>\n",
       "  </tbody>\n",
       "</table>\n",
       "</div>"
      ],
      "text/plain": [
       "         0         1         2         3        4         5         6   \\\n",
       "0 -0.325235  0.738161 -1.194263  0.586827  0.77749 -0.573937 -0.756318   \n",
       "1 -0.351496  0.885111 -1.194263  0.570666  0.77749 -0.542384 -0.760816   \n",
       "2  0.285331  1.117388  1.002164  0.107542  0.77749  1.745594  0.156009   \n",
       "3 -0.325235  0.738161 -1.194263  0.586827  0.77749 -0.573937 -0.756318   \n",
       "4  0.324723  0.065033 -0.096049  0.688439 -1.28619 -0.461479 -0.013517   \n",
       "\n",
       "         7         8         9         10        11        12  \n",
       "0 -0.431005 -0.549571 -0.049748  1.683544 -0.915702  0.145964  \n",
       "1 -0.431005 -0.549571 -0.058137  1.684324 -0.915702  0.145964  \n",
       "2 -0.431005  1.315037 -0.649533  0.217768 -0.920253  2.857971  \n",
       "3 -0.431005 -0.549571 -0.049748  1.683544 -0.915702  0.145964  \n",
       "4 -0.431005 -0.460125  0.227075 -0.617180  0.116604  0.145964  "
      ]
     },
     "execution_count": 220,
     "metadata": {},
     "output_type": "execute_result"
    }
   ],
   "source": [
    "# scaling data\n",
    "\n",
    "scaler = StandardScaler().fit(X)\n",
    "data_scaled = scaler.transform(X)\n",
    "X_scaled = pd.DataFrame(data_scaled)\n",
    "X_scaled.head()"
   ]
  },
  {
   "cell_type": "code",
   "execution_count": null,
   "id": "d74f08c1-dbf3-4c40-93eb-7072fd02d2ef",
   "metadata": {},
   "outputs": [],
   "source": []
  },
  {
   "cell_type": "markdown",
   "id": "ba2570d8-7379-4737-9c39-ce18013756c0",
   "metadata": {},
   "source": [
    "### k parameter tuning"
   ]
  },
  {
   "cell_type": "code",
   "execution_count": 221,
   "id": "647bb386-10aa-4259-847f-eadf06ab7f27",
   "metadata": {},
   "outputs": [],
   "source": [
    "from sklearn.cluster import KMeans\n",
    "from sklearn.metrics import silhouette_score\n",
    "import matplotlib.pyplot as plt"
   ]
  },
  {
   "cell_type": "code",
   "execution_count": 222,
   "id": "14a5c85d-b9c1-4012-aabf-4cb548b24c8c",
   "metadata": {},
   "outputs": [],
   "source": [
    "# inertia and silhouette scores for kmeans k parameter tuning \n",
    "# inputs: df with features, minimum k, maximum k\n",
    "# output: df with inertia values and silhouette scores\n",
    "\n",
    "def kmeans_k_tuning(df, k_min, k_max):\n",
    "    #calculating inertia and silhouette scores\n",
    "    inertia, silhouette = [], []\n",
    "    for k in range(k_min, k_max):\n",
    "        kmeans = KMeans(n_clusters=k, random_state=99)\n",
    "        kmeans.fit(df)\n",
    "        inertia.append(kmeans.inertia_)\n",
    "        silhouette.append(silhouette_score(df, kmeans.predict(df)))\n",
    "        \n",
    "    ine = kmeans_k_tuning_plots(k_min=k_min, k_max=k_max, inertia=inertia, silhouette=silhouette)\n",
    "    \n",
    "    # storing results in df\n",
    "    results = pd.DataFrame({'k': list(range(k_min, k_max)), 'inertia': inertia, 'silhouette_score': silhouette})\n",
    "    return results"
   ]
  },
  {
   "cell_type": "code",
   "execution_count": 223,
   "id": "26288941-d868-493e-b270-2d0aa74fd073",
   "metadata": {},
   "outputs": [],
   "source": [
    "# inertia and silhouette score plots for kmeans k parameter tuning \n",
    "# inputs: minimum k, maximum k, inertia value list, silhouette score value list\n",
    "# output: inertia value list\n",
    "\n",
    "def kmeans_k_tuning_plots(k_min, k_max, inertia, silhouette):\n",
    "    # inertia plot\n",
    "    plt.figure(figsize=(16,8))\n",
    "    plt.plot(range(k_min, k_max), inertia, 'bx-')\n",
    "    plt.title('inertia for k between ' + str(k_min) + ' and ' + str(k_max))\n",
    "    plt.xlabel('k')\n",
    "    plt.ylabel('inertia')\n",
    "    plt.xticks(np.arange(k_min, k_max+1, 1.0))\n",
    "    plt.show()\n",
    "    \n",
    "    # silhouette score plot\n",
    "    plt.figure(figsize=(16,8))\n",
    "    plt.plot(range(k_min, k_max), silhouette, 'bx-')\n",
    "    plt.title('silhouette score for k between ' + str(k_min) + ' and ' + str(k_max))\n",
    "    plt.xlabel('k')\n",
    "    plt.ylabel('silhouette score')\n",
    "    plt.xticks(np.arange(k_min, k_max+1, 1.0))\n",
    "    plt.show()\n",
    "    \n",
    "    return inertia"
   ]
  },
  {
   "cell_type": "code",
   "execution_count": 224,
   "id": "512bf309-4649-4d24-b5bd-967dfde89efb",
   "metadata": {},
   "outputs": [
    {
     "data": {
      "image/png": "[encoded data removed]",
      "text/plain": [
       "<Figure size 1152x576 with 1 Axes>"
      ]
     },
     "metadata": {
      "needs_background": "light"
     },
     "output_type": "display_data"
    },
    {
     "data": {
      "image/png": "[encoded data removed]",
      "text/plain": [
       "<Figure size 1152x576 with 1 Axes>"
      ]
     },
     "metadata": {
      "needs_background": "light"
     },
     "output_type": "display_data"
    }
   ],
   "source": [
    "k_scores = kmeans_k_tuning(X_scaled, 2, 16)"
   ]
  },
  {
   "cell_type": "code",
   "execution_count": null,
   "id": "b422b8db-0351-47a2-ab44-16a859be7bdf",
   "metadata": {},
   "outputs": [],
   "source": []
  },
  {
   "cell_type": "markdown",
   "id": "6722f5e4-57c1-4db4-9d42-9786c668c177",
   "metadata": {},
   "source": [
    "### KMeans Clustering"
   ]
  },
  {
   "cell_type": "code",
   "execution_count": 225,
   "id": "7f696e3a-3197-4e6d-b9ba-eb4531f184f2",
   "metadata": {},
   "outputs": [
    {
     "data": {
      "text/plain": [
       "0    116\n",
       "1    195\n",
       "2     78\n",
       "3    253\n",
       "4    382\n",
       "5    407\n",
       "6    187\n",
       "7    161\n",
       "8     79\n",
       "dtype: int64"
      ]
     },
     "execution_count": 225,
     "metadata": {},
     "output_type": "execute_result"
    }
   ],
   "source": [
    "# KMeans Clustering\n",
    "kmeans = KMeans(n_clusters=9, random_state=88)\n",
    "kmeans.fit(X_scaled)\n",
    "\n",
    "# checking cluster size\n",
    "clusters = kmeans.predict(X_scaled)\n",
    "pd.Series(clusters).value_counts().sort_index()\n"
   ]
  },
  {
   "cell_type": "code",
   "execution_count": 226,
   "id": "892ac304-6499-4dc2-a322-b94d6c2773ab",
   "metadata": {},
   "outputs": [],
   "source": [
    "# adding cluster assignments to dataframe\n",
    "hot100_clustered = hot100_audio_features.copy()\n",
    "hot100_clustered[\"cluster\"] = clusters"
   ]
  },
  {
   "cell_type": "code",
   "execution_count": 227,
   "id": "3f1d6789-49d8-4f38-aa83-a0f3223b29f5",
   "metadata": {},
   "outputs": [
    {
     "data": {
      "text/html": [
       "<div>\n",
       "<style scoped>\n",
       "    .dataframe tbody tr th:only-of-type {\n",
       "        vertical-align: middle;\n",
       "    }\n",
       "\n",
       "    .dataframe tbody tr th {\n",
       "        vertical-align: top;\n",
       "    }\n",
       "\n",
       "    .dataframe thead th {\n",
       "        text-align: right;\n",
       "    }\n",
       "</style>\n",
       "<table border=\"1\" class=\"dataframe\">\n",
       "  <thead>\n",
       "    <tr style=\"text-align: right;\">\n",
       "      <th></th>\n",
       "      <th>track_id</th>\n",
       "      <th>track_name</th>\n",
       "      <th>danceability</th>\n",
       "      <th>energy</th>\n",
       "      <th>key</th>\n",
       "      <th>loudness</th>\n",
       "      <th>mode</th>\n",
       "      <th>speechiness</th>\n",
       "      <th>acousticness</th>\n",
       "      <th>instrumentalness</th>\n",
       "      <th>liveness</th>\n",
       "      <th>valence</th>\n",
       "      <th>tempo</th>\n",
       "      <th>duration_ms</th>\n",
       "      <th>time_signature</th>\n",
       "      <th>cluster</th>\n",
       "    </tr>\n",
       "  </thead>\n",
       "  <tbody>\n",
       "    <tr>\n",
       "      <th>0</th>\n",
       "      <td>5HCyWlXZPP0y6Gqq8TgA20</td>\n",
       "      <td>STAY (with Justin Bieber)</td>\n",
       "      <td>0.591</td>\n",
       "      <td>0.764</td>\n",
       "      <td>1.0</td>\n",
       "      <td>-5.484</td>\n",
       "      <td>1.0</td>\n",
       "      <td>0.0483</td>\n",
       "      <td>0.0383</td>\n",
       "      <td>0.0</td>\n",
       "      <td>0.103</td>\n",
       "      <td>0.478</td>\n",
       "      <td>169.928</td>\n",
       "      <td>141806.0</td>\n",
       "      <td>4.0</td>\n",
       "      <td>3</td>\n",
       "    </tr>\n",
       "    <tr>\n",
       "      <th>1</th>\n",
       "      <td>4kux0P5UfguojB4h0lQnsj</td>\n",
       "      <td>STAY (with Justin Bieber)</td>\n",
       "      <td>0.587</td>\n",
       "      <td>0.795</td>\n",
       "      <td>1.0</td>\n",
       "      <td>-5.557</td>\n",
       "      <td>1.0</td>\n",
       "      <td>0.0522</td>\n",
       "      <td>0.0370</td>\n",
       "      <td>0.0</td>\n",
       "      <td>0.103</td>\n",
       "      <td>0.476</td>\n",
       "      <td>169.951</td>\n",
       "      <td>141806.0</td>\n",
       "      <td>4.0</td>\n",
       "      <td>3</td>\n",
       "    </tr>\n",
       "    <tr>\n",
       "      <th>2</th>\n",
       "      <td>2WYs5LxOZfEyURXu7V0O1a</td>\n",
       "      <td>Stay With Me</td>\n",
       "      <td>0.684</td>\n",
       "      <td>0.844</td>\n",
       "      <td>9.0</td>\n",
       "      <td>-7.649</td>\n",
       "      <td>1.0</td>\n",
       "      <td>0.3350</td>\n",
       "      <td>0.3020</td>\n",
       "      <td>0.0</td>\n",
       "      <td>0.374</td>\n",
       "      <td>0.335</td>\n",
       "      <td>126.677</td>\n",
       "      <td>141505.0</td>\n",
       "      <td>5.0</td>\n",
       "      <td>1</td>\n",
       "    </tr>\n",
       "    <tr>\n",
       "      <th>3</th>\n",
       "      <td>5PjdY0CKGZdEuoNab3yDmX</td>\n",
       "      <td>STAY (with Justin Bieber)</td>\n",
       "      <td>0.591</td>\n",
       "      <td>0.764</td>\n",
       "      <td>1.0</td>\n",
       "      <td>-5.484</td>\n",
       "      <td>1.0</td>\n",
       "      <td>0.0483</td>\n",
       "      <td>0.0383</td>\n",
       "      <td>0.0</td>\n",
       "      <td>0.103</td>\n",
       "      <td>0.478</td>\n",
       "      <td>169.928</td>\n",
       "      <td>141806.0</td>\n",
       "      <td>4.0</td>\n",
       "      <td>3</td>\n",
       "    </tr>\n",
       "    <tr>\n",
       "      <th>4</th>\n",
       "      <td>6uBhi9gBXWjanegOb2Phh0</td>\n",
       "      <td>Stay</td>\n",
       "      <td>0.690</td>\n",
       "      <td>0.622</td>\n",
       "      <td>5.0</td>\n",
       "      <td>-5.025</td>\n",
       "      <td>0.0</td>\n",
       "      <td>0.0622</td>\n",
       "      <td>0.2530</td>\n",
       "      <td>0.0</td>\n",
       "      <td>0.116</td>\n",
       "      <td>0.544</td>\n",
       "      <td>102.040</td>\n",
       "      <td>210091.0</td>\n",
       "      <td>4.0</td>\n",
       "      <td>4</td>\n",
       "    </tr>\n",
       "  </tbody>\n",
       "</table>\n",
       "</div>"
      ],
      "text/plain": [
       "                 track_id                 track_name  danceability  energy  \\\n",
       "0  5HCyWlXZPP0y6Gqq8TgA20  STAY (with Justin Bieber)         0.591   0.764   \n",
       "1  4kux0P5UfguojB4h0lQnsj  STAY (with Justin Bieber)         0.587   0.795   \n",
       "2  2WYs5LxOZfEyURXu7V0O1a               Stay With Me         0.684   0.844   \n",
       "3  5PjdY0CKGZdEuoNab3yDmX  STAY (with Justin Bieber)         0.591   0.764   \n",
       "4  6uBhi9gBXWjanegOb2Phh0                       Stay         0.690   0.622   \n",
       "\n",
       "   key  loudness  mode  speechiness  acousticness  instrumentalness  liveness  \\\n",
       "0  1.0    -5.484   1.0       0.0483        0.0383               0.0     0.103   \n",
       "1  1.0    -5.557   1.0       0.0522        0.0370               0.0     0.103   \n",
       "2  9.0    -7.649   1.0       0.3350        0.3020               0.0     0.374   \n",
       "3  1.0    -5.484   1.0       0.0483        0.0383               0.0     0.103   \n",
       "4  5.0    -5.025   0.0       0.0622        0.2530               0.0     0.116   \n",
       "\n",
       "   valence    tempo  duration_ms  time_signature  cluster  \n",
       "0    0.478  169.928     141806.0             4.0        3  \n",
       "1    0.476  169.951     141806.0             4.0        3  \n",
       "2    0.335  126.677     141505.0             5.0        1  \n",
       "3    0.478  169.928     141806.0             4.0        3  \n",
       "4    0.544  102.040     210091.0             4.0        4  "
      ]
     },
     "execution_count": 227,
     "metadata": {},
     "output_type": "execute_result"
    }
   ],
   "source": [
    "hot100_clustered.head()"
   ]
  },
  {
   "cell_type": "code",
   "execution_count": null,
   "id": "68c76c16-52d8-445f-a4bd-34824d429d21",
   "metadata": {},
   "outputs": [],
   "source": []
  },
  {
   "cell_type": "markdown",
   "id": "f32fa105-cd51-4ad0-9fb6-6445b284a10d",
   "metadata": {},
   "source": [
    "### Song recomendation"
   ]
  },
  {
   "cell_type": "code",
   "execution_count": 246,
   "id": "ae17d94e-c2d1-4c9f-9491-82b73198f913",
   "metadata": {},
   "outputs": [],
   "source": [
    "# finding song inside the same cluster after KMeans clustering returning 'similar' song \n",
    "# or predicting cluster if input song not yet in cluster df \n",
    "# inputs: df with songs, column with titles, column with clusters, outputs: df with similar song or new song \n",
    "\n",
    "def find_track_in_same_cluster(df, titles, clusters, transformer):\n",
    "    # user input\n",
    "    song_match = hot100_song_select()\n",
    "    \n",
    "    # case: song in input df\n",
    "    if song_match in df[titles].values:\n",
    "        for song in df[titles]:\n",
    "            cluster_target = df[df[titles] == song_match][clusters].values[0]\n",
    "            \n",
    "        df_target_cluster = df[df[clusters] == cluster_target]\n",
    "        df_target_cluster = df_target_cluster[df_target_cluster[titles] != song_match]\n",
    "        df_target = df_target_cluster.sample(1)\n",
    "        print('We picked a song you might also like.')\n",
    "    \n",
    "    # case: song not in input df   \n",
    "    else:\n",
    "        df_match = pd.DataFrame({'songs': [song_match]})\n",
    "        df_match_ids = search_spotify_track_ids_list(df=df_match, tracks='songs')\n",
    "        df_match_features = track_audio_features_to_df(df=df_match_ids, tracks='track_id').sample(1)\n",
    "        df_target = predict_song_cluster(df=df_match_features, transformer=transformer, drop_col=['track_name', 'track_id'])\n",
    "        df_target = pd.concat([df_match_features, df_target], axis=1)\n",
    "        print('We are adding the song to our recommendation system so next time you ask for a sugesstion we have something for you.')\n",
    "        \n",
    "    return df_target\n"
   ]
  },
  {
   "cell_type": "code",
   "execution_count": 247,
   "id": "77454efe-29dc-4565-bf36-439d7c678d71",
   "metadata": {},
   "outputs": [],
   "source": [
    "# assigns cluster to a song \n",
    "\n",
    "def predict_song_cluster(df, transformer, drop_col=[]):\n",
    "    X_pred = df.copy()\n",
    "    if drop_col != []:\n",
    "        X_pred = X_pred.drop(drop_col, axis=1)\n",
    "    # transform song data\n",
    "    data_pred_scaled = transformer.transform(X_pred)\n",
    "    X_pred_scaled = pd.DataFrame(data_pred_scaled)\n",
    "    # cluster assignment\n",
    "    clusters_pred = kmeans.predict(X_pred_scaled)\n",
    "    X_pred[\"cluster\"] = clusters_pred\n",
    "    return X_pred"
   ]
  },
  {
   "cell_type": "code",
   "execution_count": 231,
   "id": "5b8eaabc-f1b3-4074-95fc-b3feb09acb42",
   "metadata": {},
   "outputs": [
    {
     "name": "stdin",
     "output_type": "stream",
     "text": [
      "What song do you like?  Bad Habits\n",
      "Did you mean Bad Habits by Ed Sheeran?  yes\n"
     ]
    },
    {
     "name": "stdout",
     "output_type": "stream",
     "text": [
      "We picked a song you might also like.\n"
     ]
    }
   ],
   "source": [
    "similar_song1 = find_track_in_same_cluster(df=hot100_clustered, titles='track_name', clusters='cluster', transformer=scaler)"
   ]
  },
  {
   "cell_type": "code",
   "execution_count": 232,
   "id": "b7ea0c32-4bf6-4818-967a-4c7e63191958",
   "metadata": {},
   "outputs": [
    {
     "data": {
      "text/html": [
       "<div>\n",
       "<style scoped>\n",
       "    .dataframe tbody tr th:only-of-type {\n",
       "        vertical-align: middle;\n",
       "    }\n",
       "\n",
       "    .dataframe tbody tr th {\n",
       "        vertical-align: top;\n",
       "    }\n",
       "\n",
       "    .dataframe thead th {\n",
       "        text-align: right;\n",
       "    }\n",
       "</style>\n",
       "<table border=\"1\" class=\"dataframe\">\n",
       "  <thead>\n",
       "    <tr style=\"text-align: right;\">\n",
       "      <th></th>\n",
       "      <th>track_id</th>\n",
       "      <th>track_name</th>\n",
       "      <th>danceability</th>\n",
       "      <th>energy</th>\n",
       "      <th>key</th>\n",
       "      <th>loudness</th>\n",
       "      <th>mode</th>\n",
       "      <th>speechiness</th>\n",
       "      <th>acousticness</th>\n",
       "      <th>instrumentalness</th>\n",
       "      <th>liveness</th>\n",
       "      <th>valence</th>\n",
       "      <th>tempo</th>\n",
       "      <th>duration_ms</th>\n",
       "      <th>time_signature</th>\n",
       "      <th>cluster</th>\n",
       "    </tr>\n",
       "  </thead>\n",
       "  <tbody>\n",
       "    <tr>\n",
       "      <th>1595</th>\n",
       "      <td>6MDo7sy44456lULRdSDM80</td>\n",
       "      <td>Nevada</td>\n",
       "      <td>0.57</td>\n",
       "      <td>0.892</td>\n",
       "      <td>11.0</td>\n",
       "      <td>-3.471</td>\n",
       "      <td>0.0</td>\n",
       "      <td>0.0509</td>\n",
       "      <td>0.0183</td>\n",
       "      <td>0.000012</td>\n",
       "      <td>0.108</td>\n",
       "      <td>0.301</td>\n",
       "      <td>127.052</td>\n",
       "      <td>186213.0</td>\n",
       "      <td>4.0</td>\n",
       "      <td>4</td>\n",
       "    </tr>\n",
       "  </tbody>\n",
       "</table>\n",
       "</div>"
      ],
      "text/plain": [
       "                    track_id track_name  danceability  energy   key  loudness  \\\n",
       "1595  6MDo7sy44456lULRdSDM80     Nevada          0.57   0.892  11.0    -3.471   \n",
       "\n",
       "      mode  speechiness  acousticness  instrumentalness  liveness  valence  \\\n",
       "1595   0.0       0.0509        0.0183          0.000012     0.108    0.301   \n",
       "\n",
       "        tempo  duration_ms  time_signature  cluster  \n",
       "1595  127.052     186213.0             4.0        4  "
      ]
     },
     "execution_count": 232,
     "metadata": {},
     "output_type": "execute_result"
    }
   ],
   "source": [
    "similar_song1"
   ]
  },
  {
   "cell_type": "code",
   "execution_count": 248,
   "id": "e0dca3cc-2542-47f9-bbae-44d8f1565afc",
   "metadata": {},
   "outputs": [
    {
     "name": "stdin",
     "output_type": "stream",
     "text": [
      "What song do you like?  Christmas\n"
     ]
    },
    {
     "name": "stdout",
     "output_type": "stream",
     "text": [
      "Your song is not in the Hot 100.\n",
      "We are adding the song to our recommendation system so next time you ask for a sugesstion we have something for you.\n"
     ]
    }
   ],
   "source": [
    "similar_song2 = find_track_in_same_cluster(df=hot100_clustered, titles='track_name', clusters='cluster', transformer=scaler)"
   ]
  },
  {
   "cell_type": "code",
   "execution_count": 249,
   "id": "a553f24c-bbb7-4099-8a0e-d8724d52b1dc",
   "metadata": {},
   "outputs": [
    {
     "data": {
      "text/html": [
       "<div>\n",
       "<style scoped>\n",
       "    .dataframe tbody tr th:only-of-type {\n",
       "        vertical-align: middle;\n",
       "    }\n",
       "\n",
       "    .dataframe tbody tr th {\n",
       "        vertical-align: top;\n",
       "    }\n",
       "\n",
       "    .dataframe thead th {\n",
       "        text-align: right;\n",
       "    }\n",
       "</style>\n",
       "<table border=\"1\" class=\"dataframe\">\n",
       "  <thead>\n",
       "    <tr style=\"text-align: right;\">\n",
       "      <th></th>\n",
       "      <th>track_id</th>\n",
       "      <th>track_name</th>\n",
       "      <th>danceability</th>\n",
       "      <th>energy</th>\n",
       "      <th>key</th>\n",
       "      <th>loudness</th>\n",
       "      <th>mode</th>\n",
       "      <th>speechiness</th>\n",
       "      <th>acousticness</th>\n",
       "      <th>instrumentalness</th>\n",
       "      <th>liveness</th>\n",
       "      <th>valence</th>\n",
       "      <th>tempo</th>\n",
       "      <th>duration_ms</th>\n",
       "      <th>time_signature</th>\n",
       "      <th>danceability</th>\n",
       "      <th>energy</th>\n",
       "      <th>key</th>\n",
       "      <th>loudness</th>\n",
       "      <th>mode</th>\n",
       "      <th>speechiness</th>\n",
       "      <th>acousticness</th>\n",
       "      <th>instrumentalness</th>\n",
       "      <th>liveness</th>\n",
       "      <th>valence</th>\n",
       "      <th>tempo</th>\n",
       "      <th>duration_ms</th>\n",
       "      <th>time_signature</th>\n",
       "      <th>cluster</th>\n",
       "    </tr>\n",
       "  </thead>\n",
       "  <tbody>\n",
       "    <tr>\n",
       "      <th>5</th>\n",
       "      <td>40gk32E7YaTFoQwDIWv2SY</td>\n",
       "      <td>Christmas Kids</td>\n",
       "      <td>0.425</td>\n",
       "      <td>0.754</td>\n",
       "      <td>2</td>\n",
       "      <td>-6.028</td>\n",
       "      <td>1</td>\n",
       "      <td>0.0367</td>\n",
       "      <td>0.0104</td>\n",
       "      <td>0.112</td>\n",
       "      <td>0.438</td>\n",
       "      <td>0.558</td>\n",
       "      <td>152.092</td>\n",
       "      <td>135693</td>\n",
       "      <td>4</td>\n",
       "      <td>0.425</td>\n",
       "      <td>0.754</td>\n",
       "      <td>2</td>\n",
       "      <td>-6.028</td>\n",
       "      <td>1</td>\n",
       "      <td>0.0367</td>\n",
       "      <td>0.0104</td>\n",
       "      <td>0.112</td>\n",
       "      <td>0.438</td>\n",
       "      <td>0.558</td>\n",
       "      <td>152.092</td>\n",
       "      <td>135693</td>\n",
       "      <td>4</td>\n",
       "      <td>3</td>\n",
       "    </tr>\n",
       "  </tbody>\n",
       "</table>\n",
       "</div>"
      ],
      "text/plain": [
       "                 track_id      track_name  danceability  energy  key  \\\n",
       "5  40gk32E7YaTFoQwDIWv2SY  Christmas Kids         0.425   0.754    2   \n",
       "\n",
       "   loudness  mode  speechiness  acousticness  instrumentalness  liveness  \\\n",
       "5    -6.028     1       0.0367        0.0104             0.112     0.438   \n",
       "\n",
       "   valence    tempo  duration_ms  time_signature  danceability  energy  key  \\\n",
       "5    0.558  152.092       135693               4         0.425   0.754    2   \n",
       "\n",
       "   loudness  mode  speechiness  acousticness  instrumentalness  liveness  \\\n",
       "5    -6.028     1       0.0367        0.0104             0.112     0.438   \n",
       "\n",
       "   valence    tempo  duration_ms  time_signature  cluster  \n",
       "5    0.558  152.092       135693               4        3  "
      ]
     },
     "execution_count": 249,
     "metadata": {},
     "output_type": "execute_result"
    }
   ],
   "source": [
    "similar_song2"
   ]
  },
  {
   "cell_type": "code",
   "execution_count": null,
   "id": "e0a151f6-a08b-4702-aeb1-878b265035ad",
   "metadata": {},
   "outputs": [],
   "source": []
  },
  {
   "cell_type": "markdown",
   "id": "0b92b85c-30e3-47d3-84fd-346eb6bca1cc",
   "metadata": {},
   "source": [
    "### Updating Cluster data"
   ]
  },
  {
   "cell_type": "code",
   "execution_count": null,
   "id": "b43bff25-9824-421f-8913-89ea387c613b",
   "metadata": {},
   "outputs": [],
   "source": [
    "hot100_clustered = hot100_clustered.append(similar_song2, ignore_index=True)\n",
    "hot100_clustered.tail()\n",
    "\n",
    "# NOT WORKING - indexing"
   ]
  },
  {
   "cell_type": "code",
   "execution_count": null,
   "id": "c64e2a73-8607-44c0-aa95-68ad97fed5b8",
   "metadata": {},
   "outputs": [],
   "source": []
  },
  {
   "cell_type": "code",
   "execution_count": null,
   "id": "2a2a42e2-ddde-4381-838c-828850c6d9e4",
   "metadata": {},
   "outputs": [],
   "source": []
  }
 ],
 "metadata": {
  "kernelspec": {
   "display_name": "Python3Brew",
   "language": "python",
   "name": "python3brew"
  },
  "language_info": {
   "codemirror_mode": {
    "name": "ipython",
    "version": 3
   },
   "file_extension": ".py",
   "mimetype": "text/x-python",
   "name": "python",
   "nbconvert_exporter": "python",
   "pygments_lexer": "ipython3",
   "version": "3.9.4"
  }
 },
 "nbformat": 4,
 "nbformat_minor": 5
}
